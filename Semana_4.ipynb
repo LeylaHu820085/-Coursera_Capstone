{
  "nbformat": 4,
  "nbformat_minor": 0,
  "metadata": {
    "colab": {
      "name": "Semana 4.ipynb",
      "provenance": [],
      "collapsed_sections": [],
      "authorship_tag": "ABX9TyMC5HqXX7opFA+VKjYsKELI",
      "include_colab_link": true
    },
    "kernelspec": {
      "name": "python3",
      "display_name": "Python 3"
    },
    "language_info": {
      "name": "python"
    }
  },
  "cells": [
    {
      "cell_type": "markdown",
      "metadata": {
        "id": "view-in-github",
        "colab_type": "text"
      },
      "source": [
        "<a href=\"https://colab.research.google.com/github/LeylaHu820085/-Coursera_Capstone/blob/main/Semana_4.ipynb\" target=\"_parent\"><img src=\"https://colab.research.google.com/assets/colab-badge.svg\" alt=\"Open In Colab\"/></a>"
      ]
    },
    {
      "cell_type": "markdown",
      "source": [
        "#Descripción del problema\n",
        "\n"
      ],
      "metadata": {
        "id": "Tr5XXHmFo_77"
      }
    },
    {
      "cell_type": "markdown",
      "source": [
        "#Descripción del problema y una discusión de los antecedentes.\n",
        "\n",
        "Descripción del problema y discusión de antecedentes Encontrar una ubicación oportuna para ubicar una panadería y pastelería en la ciudad de Toronto. Toronto es una ciudad con mucha actividad económica y gran cantidad de población. Por tanto es importante conocer las preferencias de los ciudadanos según su estilo de vida, preferencias, hábitos y actividades que con frecuencia realizan, así como sus rutinas y los lugares que más frecuentan, todo ello para poder proponer una carta acorde al segmento objetivo dentro de la ciudad. La ubicación debe ser cercana a los lugares que más frecuenta el publico objetivo de la panadería y pastelería acorde al nivel socioeconómico de los potenciales clientes.\n",
        "\n",
        "#Descripción de los datos y cómo se utilizarán para resolver el problema.\n",
        "Los datos que se necesitará para desarrollar esta investigación son del CENSO ya que nos brindará información demógrafica, social y económica de las personas en la ciudad de Toronto\n",
        "Se usará Foursquare para obtener la información sobre los lugares frecuentados."
      ],
      "metadata": {
        "id": "pjCofpUBpL8S"
      }
    }
  ]
}